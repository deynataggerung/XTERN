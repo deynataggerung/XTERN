{
 "cells": [
  {
   "cell_type": "code",
   "execution_count": null,
   "metadata": {},
   "outputs": [],
   "source": [
    "#https://techpoint.formstack.com/forms/?i-3213890-m1Z7Utxj5N\n",
    "import csv, sys, math\n",
    "import matplotlib.pyplot as plt\n",
    "import numpy as np\n",
    "\n",
    "args = sys.argv\n",
    "\n",
    "# add args check\n",
    "\n",
    "\n",
    "class Person():\n",
    "    def __init__(self, number):\n",
    "        self.identity = number\n",
    "        self.timeToLocation = {}\n",
    "        self.locationToTime = {}\n",
    "    \n",
    "    def addPoint(self, location, time):\n",
    "        self.timeToLocation.append\n",
    "\n",
    "filename = \"checkin_dataset.csv\"\n",
    "\n",
    "with open(filename, 'rb') as fp:\n",
    "    reader = csv.reader(fp)\n",
    "    \n",
    "    reader.next();\n",
    "    #read in the rows to a list\n",
    "    for row in reader:\n",
    "        data.append(DataPoint(row[1], row[2], row[3], row[4]))\n",
    "    "
   ]
  }
 ],
 "metadata": {
  "kernelspec": {
   "display_name": "Python 2",
   "language": "python",
   "name": "python2"
  },
  "language_info": {
   "codemirror_mode": {
    "name": "ipython",
    "version": 2
   },
   "file_extension": ".py",
   "mimetype": "text/x-python",
   "name": "python",
   "nbconvert_exporter": "python",
   "pygments_lexer": "ipython2",
   "version": "2.7.13"
  }
 },
 "nbformat": 4,
 "nbformat_minor": 2
}
